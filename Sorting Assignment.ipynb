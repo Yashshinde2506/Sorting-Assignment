{
 "cells": [
  {
   "cell_type": "code",
   "execution_count": 1,
   "id": "5dea2bd9",
   "metadata": {},
   "outputs": [],
   "source": [
    "# 1.Given an array of n numbers, give an algorithm which gives the element appearing maximum number of times?"
   ]
  },
  {
   "cell_type": "code",
   "execution_count": 2,
   "id": "56b4a2cd",
   "metadata": {},
   "outputs": [
    {
     "name": "stdout",
     "output_type": "stream",
     "text": [
      "Element appearing maximum number of times: 2\n"
     ]
    }
   ],
   "source": [
    "from collections import Counter\n",
    "\n",
    "def find_max_occurrence(arr):\n",
    "    count = Counter(arr)\n",
    "    max_element = max(count, key=count.get)\n",
    "    return max_element\n",
    "\n",
    "# Example usage:\n",
    "arr = [1, 3, 4, 2, 2, 1, 2, 4, 3, 2, 2, 2, 4, 4, 4]\n",
    "result = find_max_occurrence(arr)\n",
    "print(\"Element appearing maximum number of times:\", result)\n"
   ]
  },
  {
   "cell_type": "code",
   "execution_count": 5,
   "id": "e4d01ad7",
   "metadata": {},
   "outputs": [],
   "source": [
    "# '''We are given a list of n-1 integers and these integers are in the range of 1 to n . There are no\n",
    "# duplicates in the list. One of the integers is missing in the list. Give an algorithm to find that element Ex:\n",
    "# [1,2,4,6,3,7,8] 5 is the missing num.'''"
   ]
  },
  {
   "cell_type": "code",
   "execution_count": 6,
   "id": "9659ce7e",
   "metadata": {},
   "outputs": [
    {
     "name": "stdout",
     "output_type": "stream",
     "text": [
      "Missing number is: 5\n"
     ]
    }
   ],
   "source": [
    "def find_missing_number(arr):\n",
    "    n = len(arr) + 1  # Since there are n-1 elements in the list\n",
    "    total_sum = n * (n + 1) // 2  # Sum of first n natural numbers\n",
    "    current_sum = sum(arr)  # Sum of elements in the given list\n",
    "    missing_number = total_sum - current_sum\n",
    "    return missing_number\n",
    "\n",
    "# Example usage:\n",
    "arr = [1, 2, 4, 6, 3, 7, 8]\n",
    "missing = find_missing_number(arr)\n",
    "print(\"Missing number is:\", missing)\n"
   ]
  },
  {
   "cell_type": "code",
   "execution_count": 7,
   "id": "058108a5",
   "metadata": {},
   "outputs": [],
   "source": [
    "# Given an array of n positive numbers. All numbers occurs even number of times except 1 which\n",
    "# occurs odd number of times. Find that number in O(n) time and O(1) space. Ex: [1,2,3,2,3,1,3]. 3 is repeats odd\n",
    "# times."
   ]
  },
  {
   "cell_type": "code",
   "execution_count": 9,
   "id": "fdf4cdd2",
   "metadata": {},
   "outputs": [
    {
     "name": "stdout",
     "output_type": "stream",
     "text": [
      "Number occurring odd number of times: 3\n"
     ]
    }
   ],
   "source": [
    "def find_odd_occurrence(arr):\n",
    "    result = 0\n",
    "    for num in arr:\n",
    "        result = result ^ num\n",
    "    return result\n",
    "\n",
    "# Example usage:\n",
    "arr = [1, 2, 3, 2, 3, 1, 3]\n",
    "odd_occurrence = find_odd_occurrence(arr)\n",
    "print(\"Number occurring odd number of times:\", odd_occurrence)\n"
   ]
  },
  {
   "cell_type": "code",
   "execution_count": 10,
   "id": "6487c1dd",
   "metadata": {},
   "outputs": [],
   "source": [
    "# Given an array of n elements. Find two elements in the array such that their sum is equal to given\n",
    "# element K."
   ]
  },
  {
   "cell_type": "code",
   "execution_count": 11,
   "id": "3d226bd9",
   "metadata": {},
   "outputs": [
    {
     "name": "stdout",
     "output_type": "stream",
     "text": [
      "Pair with sum 10: 8 and 2\n"
     ]
    }
   ],
   "source": [
    "def find_pair_with_sum(arr, target_sum):\n",
    "    seen = set()\n",
    "    for num in arr:\n",
    "        complement = target_sum - num\n",
    "        if complement in seen:\n",
    "            return num, complement\n",
    "        seen.add(num)\n",
    "    return None, None\n",
    "\n",
    "# Example usage:\n",
    "arr = [4, 7, 2, 8, 3, 9, 1]\n",
    "target = 10\n",
    "num1, num2 = find_pair_with_sum(arr, target)\n",
    "if num1 is not None and num2 is not None:\n",
    "    print(f\"Pair with sum {target}: {num1} and {num2}\")\n",
    "else:\n",
    "    print(\"No pair found with the given sum\")\n"
   ]
  },
  {
   "cell_type": "code",
   "execution_count": 12,
   "id": "04187dba",
   "metadata": {},
   "outputs": [],
   "source": [
    "# : Given an array of both positive and negative numbers, find two numbers such that their sum is\n",
    "# closest to 0. Ex: [ 1 ,60 ,-10, 70, -80,85]. Ans : -80,85."
   ]
  },
  {
   "cell_type": "code",
   "execution_count": 13,
   "id": "e5daa83e",
   "metadata": {},
   "outputs": [
    {
     "name": "stdout",
     "output_type": "stream",
     "text": [
      "Two numbers closest to zero: (-80, 85)\n"
     ]
    }
   ],
   "source": [
    "def closest_to_zero(arr):\n",
    "    arr.sort()  # Sort the array\n",
    "    left = 0\n",
    "    right = len(arr) - 1\n",
    "    min_sum = float('inf')  # Initialize min_sum with a very large value\n",
    "    result = None, None\n",
    "\n",
    "    while left < right:\n",
    "        current_sum = arr[left] + arr[right]\n",
    "\n",
    "        # Check if the current pair has a sum closer to zero\n",
    "        if abs(current_sum) < abs(min_sum):\n",
    "            min_sum = current_sum\n",
    "            result = arr[left], arr[right]\n",
    "\n",
    "        # Move pointers based on the sum\n",
    "        if current_sum < 0:\n",
    "            left += 1\n",
    "        else:\n",
    "            right -= 1\n",
    "\n",
    "    return result\n",
    "\n",
    "# Example usage:\n",
    "arr = [1, 60, -10, 70, -80, 85]\n",
    "pair = closest_to_zero(arr)\n",
    "print(\"Two numbers closest to zero:\", pair)\n"
   ]
  },
  {
   "cell_type": "code",
   "execution_count": 14,
   "id": "1a9fbdbe",
   "metadata": {},
   "outputs": [],
   "source": [
    "# Given an array of n elements . Find three elements such that their sum is equal to the given\n",
    "# number."
   ]
  },
  {
   "cell_type": "code",
   "execution_count": 15,
   "id": "8d962f1c",
   "metadata": {},
   "outputs": [
    {
     "name": "stdout",
     "output_type": "stream",
     "text": [
      "Three elements with sum 22: (4, 8, 10)\n"
     ]
    }
   ],
   "source": [
    "def three_sum(arr, target):\n",
    "    arr.sort()  # Sort the array\n",
    "\n",
    "    for i in range(len(arr) - 2):\n",
    "        left = i + 1\n",
    "        right = len(arr) - 1\n",
    "\n",
    "        while left < right:\n",
    "            current_sum = arr[i] + arr[left] + arr[right]\n",
    "\n",
    "            # Check if the current triplet has the target sum\n",
    "            if current_sum == target:\n",
    "                return arr[i], arr[left], arr[right]\n",
    "            elif current_sum < target:\n",
    "                left += 1\n",
    "            else:\n",
    "                right -= 1\n",
    "\n",
    "    return None\n",
    "\n",
    "# Example usage:\n",
    "arr = [1, 4, 45, 6, 10, 8]\n",
    "target_sum = 22\n",
    "result = three_sum(arr, target_sum)\n",
    "if result:\n",
    "    print(f\"Three elements with sum {target_sum}: {result}\")\n",
    "else:\n",
    "    print(\"No such triplet found\")\n"
   ]
  },
  {
   "cell_type": "code",
   "execution_count": 16,
   "id": "190a3bee",
   "metadata": {},
   "outputs": [],
   "source": [
    "# Given an array of n elements . Find three elements i, j, k in the array such that\n",
    "# i * i + j * j = k*k."
   ]
  },
  {
   "cell_type": "code",
   "execution_count": 17,
   "id": "0e73e434",
   "metadata": {},
   "outputs": [
    {
     "name": "stdout",
     "output_type": "stream",
     "text": [
      "Triplet found: (3, 4, 5)\n"
     ]
    }
   ],
   "source": [
    "def find_triplet(arr):\n",
    "    squared_set = {x * x for x in arr}  # Set to store squares of elements\n",
    "\n",
    "    for i in range(len(arr)):\n",
    "        for j in range(i + 1, len(arr)):\n",
    "            sum_of_squares = arr[i] * arr[i] + arr[j] * arr[j]\n",
    "            if sum_of_squares in squared_set:\n",
    "                k = int(sum_of_squares ** 0.5)\n",
    "                return arr[i], arr[j], k\n",
    "\n",
    "    return None\n",
    "\n",
    "# Example usage:\n",
    "arr = [3, 1, 4, 6, 5]\n",
    "result = find_triplet(arr)\n",
    "if result:\n",
    "    print(\"Triplet found:\", result)\n",
    "else:\n",
    "    print(\"No such triplet found\")\n"
   ]
  },
  {
   "cell_type": "code",
   "execution_count": 18,
   "id": "94a696f4",
   "metadata": {},
   "outputs": [],
   "source": [
    "# : An element is a majority if it appears more than n/2 times. Give an algorithm takes an array of n\n",
    "# element as argument and identifies a majority (if it exists)."
   ]
  },
  {
   "cell_type": "code",
   "execution_count": 19,
   "id": "8d73289f",
   "metadata": {},
   "outputs": [
    {
     "name": "stdout",
     "output_type": "stream",
     "text": [
      "Majority element: 4\n"
     ]
    }
   ],
   "source": [
    "def find_majority_element(arr):\n",
    "    candidate = None\n",
    "    count = 0\n",
    "\n",
    "    # Find a candidate for the majority element\n",
    "    for num in arr:\n",
    "        if count == 0:\n",
    "            candidate = num\n",
    "        if num == candidate:\n",
    "            count += 1\n",
    "        else:\n",
    "            count -= 1\n",
    "\n",
    "    # Verify if the candidate is indeed a majority element\n",
    "    count = 0\n",
    "    for num in arr:\n",
    "        if num == candidate:\n",
    "            count += 1\n",
    "\n",
    "    if count > len(arr) // 2:\n",
    "        return candidate\n",
    "    else:\n",
    "        return None\n",
    "\n",
    "# Example usage:\n",
    "array = [3, 3, 4, 2, 4, 4, 2, 4, 4]\n",
    "result = find_majority_element(array)\n",
    "if result:\n",
    "    print(\"Majority element:\", result)\n",
    "else:\n",
    "    print(\"No majority element found\")\n"
   ]
  },
  {
   "cell_type": "code",
   "execution_count": 20,
   "id": "f40d6a98",
   "metadata": {},
   "outputs": [],
   "source": [
    "# Given n × n matrix, and in each row all 1’s are followed by 0’s. Find the row with the maximum\n",
    "# number of 0’s."
   ]
  },
  {
   "cell_type": "code",
   "execution_count": 21,
   "id": "0c407e09",
   "metadata": {},
   "outputs": [
    {
     "name": "stdout",
     "output_type": "stream",
     "text": [
      "Row with maximum number of zeros: 3\n"
     ]
    }
   ],
   "source": [
    "def row_with_max_zeros(matrix):\n",
    "    n = len(matrix)\n",
    "    row = 0  # Initialize the row index with the first row\n",
    "    col = n - 1  # Start from the last column of the first row\n",
    "    max_zeros = 0  # Initialize max_zeros count\n",
    "\n",
    "    while row < n and col >= 0:\n",
    "        if matrix[row][col] == 0:\n",
    "            max_zeros = col  # Update max_zeros count\n",
    "            row += 1  # Move to the next row\n",
    "        else:\n",
    "            col -= 1  # Move left in the same row\n",
    "\n",
    "    return row\n",
    "\n",
    "# Example usage:\n",
    "matrix = [\n",
    "    [1, 1, 1, 0],\n",
    "    [1, 1, 0, 0],\n",
    "    [1, 0, 0, 0],\n",
    "    [1, 1, 1, 1]\n",
    "]\n",
    "\n",
    "result = row_with_max_zeros(matrix)\n",
    "print(\"Row with maximum number of zeros:\", result)\n"
   ]
  },
  {
   "cell_type": "code",
   "execution_count": 22,
   "id": "37e81543",
   "metadata": {},
   "outputs": [],
   "source": [
    "# Sort an array of 0’s, 1’s and 2’s [or R’s, G’s and B’s]: Given an array A[] consisting of 0’s, 1’s and\n",
    "# 2’s, give an algorithm for sorting A[].The algorithm should put all 0’s first, then all 1’s and finally all 2’s at the\n",
    "# end. Example Input = {0,1,1,0,1,2,1,2,0,0,0,1}, Output = {0,0,0,0,0,1,1,1,1,1,2,2}"
   ]
  },
  {
   "cell_type": "code",
   "execution_count": 23,
   "id": "a8941cfa",
   "metadata": {},
   "outputs": [
    {
     "name": "stdout",
     "output_type": "stream",
     "text": [
      "Sorted array: [0, 0, 0, 0, 0, 1, 1, 1, 1, 1, 2, 2]\n"
     ]
    }
   ],
   "source": [
    "def sortColors(nums):\n",
    "    low = 0\n",
    "    mid = 0\n",
    "    high = len(nums) - 1\n",
    "\n",
    "    while mid <= high:\n",
    "        if nums[mid] == 0:\n",
    "            nums[low], nums[mid] = nums[mid], nums[low]\n",
    "            low += 1\n",
    "            mid += 1\n",
    "        elif nums[mid] == 1:\n",
    "            mid += 1\n",
    "        else:\n",
    "            nums[mid], nums[high] = nums[high], nums[mid]\n",
    "            high -= 1\n",
    "\n",
    "# Example usage:\n",
    "arr = [0, 1, 1, 0, 1, 2, 1, 2, 0, 0, 0, 1]\n",
    "sortColors(arr)\n",
    "print(\"Sorted array:\", arr)\n"
   ]
  },
  {
   "cell_type": "code",
   "execution_count": null,
   "id": "ab5b0767",
   "metadata": {},
   "outputs": [],
   "source": []
  }
 ],
 "metadata": {
  "kernelspec": {
   "display_name": "Python 3 (ipykernel)",
   "language": "python",
   "name": "python3"
  },
  "language_info": {
   "codemirror_mode": {
    "name": "ipython",
    "version": 3
   },
   "file_extension": ".py",
   "mimetype": "text/x-python",
   "name": "python",
   "nbconvert_exporter": "python",
   "pygments_lexer": "ipython3",
   "version": "3.9.12"
  }
 },
 "nbformat": 4,
 "nbformat_minor": 5
}
